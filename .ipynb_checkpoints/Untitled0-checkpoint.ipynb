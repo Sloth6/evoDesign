{
 "metadata": {
  "name": "",
  "signature": "sha256:ab39d441f12683dbf4d8da8584af956d7866df097ec9d9276d5a10c7af34919f"
 },
 "nbformat": 3,
 "nbformat_minor": 0,
 "worksheets": [
  {
   "cells": [
    {
     "cell_type": "code",
     "collapsed": false,
     "input": [
      "import numpy as np\n",
      "import itertools, random\n",
      "from numpy.random import randint\n",
      "np.set_printoptions(linewidth = 200)\n"
     ],
     "language": "python",
     "metadata": {},
     "outputs": [],
     "prompt_number": 1
    },
    {
     "cell_type": "code",
     "collapsed": false,
     "input": [
      "for i in xrange(10):\n",
      "    print max(int(np.random.normal(1, 1)), 0)"
     ],
     "language": "python",
     "metadata": {},
     "outputs": [
      {
       "output_type": "stream",
       "stream": "stdout",
       "text": [
        "3\n",
        "0\n",
        "4\n",
        "3\n",
        "4\n",
        "1\n",
        "0\n",
        "0\n",
        "1\n",
        "3\n"
       ]
      }
     ],
     "prompt_number": 33
    },
    {
     "cell_type": "code",
     "collapsed": false,
     "input": [],
     "language": "python",
     "metadata": {},
     "outputs": []
    }
   ],
   "metadata": {}
  }
 ]
}