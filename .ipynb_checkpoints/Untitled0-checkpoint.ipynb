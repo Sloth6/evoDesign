{
 "metadata": {
  "name": "",
  "signature": "sha256:0fc82ad931dcc855ae674d78a3490500011869cb464d96d3b26a64be493de474"
 },
 "nbformat": 3,
 "nbformat_minor": 0,
 "worksheets": [
  {
   "cells": [
    {
     "cell_type": "code",
     "collapsed": false,
     "input": [
      "import numpy as np\n",
      "import itertools, random\n",
      "from numpy.random import randint\n",
      "np.set_printoptions(linewidth = 200)\n",
      "\n",
      "def get_score(x):\n",
      "    x = phenotype(x)\n",
      "    if not is_valid(x): return np.inf\n",
      "    return x.sum()\n",
      "\n",
      "def phenotype(x):\n",
      "    # bottom floor starts off supported\n",
      "    supports = np.ones([x.shape[1], x.shape[2]])\n",
      "    \n",
      "    for i in xrange(1, x.shape[0]):\n",
      "        for j in xrange(x.shape[1]):\n",
      "            for k in xrange(x.shape[2]):\n",
      "                v = x[i, j, k]\n",
      "                \n",
      "                # If no value, nothing to change\n",
      "                if not v: continue\n",
      "\n",
      "                if x[i-1, j, k]:\n",
      "                    print 'cool, brah'\n",
      "                    continue\n",
      "                else:\n",
      "                    print 'nah cool brah'\n",
      "\n",
      "                if j > 0 and x[i, j-1, k]: continue\n",
      "                if j < x.shape[1] - 1 and x[i, j+1, k]: continue\n",
      "\n",
      "                if k > 0 and x[i, j, k-1]: continue\n",
      "                if k < x.shape[2] - 1 and x[i, j, k+1]: continue\n",
      "\n",
      "                x[i, j, k] = 0\n",
      "\n",
      "                # # If block below is supporting\n",
      "                # if i > 1 and x[i-2, j, k]: continue\n",
      "\n",
      "                # if i % 2 == 0:\n",
      "                # \tif x[i-1, j, k]: continue\n",
      "                # \tif x[i-1, j-1, ]\t\t\t\t\t\n",
      "                # \tbelow = get_neighbors(x[i-1], j, k)\n",
      "                # else:\n",
      "    return x\n",
      "        # for index, v in np.ndenumerate(x):\n",
      "        # \ti, j, k = index\n",
      "        # \tprint i, j, k\n",
      "\n",
      "def is_valid(x):\n",
      "    i = x.shape[0] - 1\n",
      "    return x[i, 2, 2] and x[i, 2, 3]\n"
     ],
     "language": "python",
     "metadata": {},
     "outputs": [],
     "prompt_number": 6
    },
    {
     "cell_type": "code",
     "collapsed": false,
     "input": [
      "phenotype(best)"
     ],
     "language": "python",
     "metadata": {},
     "outputs": [
      {
       "output_type": "stream",
       "stream": "stdout",
       "text": [
        "nah cool brah\n",
        "nah cool brah\n"
       ]
      },
      {
       "metadata": {},
       "output_type": "pyout",
       "prompt_number": 7,
       "text": [
        "array([[[0, 0, 0, 0, 0],\n",
        "        [0, 0, 0, 0, 0],\n",
        "        [0, 0, 0, 0, 0],\n",
        "        [0, 0, 0, 0, 1],\n",
        "        [0, 0, 0, 0, 0]],\n",
        "\n",
        "       [[0, 0, 0, 0, 0],\n",
        "        [0, 0, 0, 0, 0],\n",
        "        [0, 0, 0, 0, 0],\n",
        "        [0, 0, 0, 0, 0],\n",
        "        [0, 0, 0, 0, 0]],\n",
        "\n",
        "       [[0, 0, 0, 0, 0],\n",
        "        [0, 0, 0, 0, 0],\n",
        "        [0, 0, 0, 0, 0],\n",
        "        [0, 0, 0, 0, 0],\n",
        "        [0, 0, 0, 0, 0]],\n",
        "\n",
        "       [[0, 0, 0, 0, 0],\n",
        "        [0, 0, 0, 0, 0],\n",
        "        [0, 0, 0, 0, 0],\n",
        "        [0, 0, 0, 0, 0],\n",
        "        [0, 0, 0, 0, 0]],\n",
        "\n",
        "       [[0, 0, 0, 0, 0],\n",
        "        [0, 0, 0, 0, 0],\n",
        "        [0, 0, 1, 1, 0],\n",
        "        [0, 0, 0, 0, 0],\n",
        "        [0, 0, 0, 0, 0]]])"
       ]
      }
     ],
     "prompt_number": 7
    },
    {
     "cell_type": "code",
     "collapsed": false,
     "input": [
      "print best[4].nonzero()\n",
      "a, b = best[4].nonzero()[0]\n",
      "print a, b"
     ],
     "language": "python",
     "metadata": {},
     "outputs": [
      {
       "output_type": "stream",
       "stream": "stdout",
       "text": [
        "[2 2]\n",
        "2 2\n"
       ]
      }
     ],
     "prompt_number": 13
    },
    {
     "cell_type": "code",
     "collapsed": false,
     "input": [
      "a,b"
     ],
     "language": "python",
     "metadata": {},
     "outputs": [
      {
       "metadata": {},
       "output_type": "pyout",
       "prompt_number": 12,
       "text": [
        "(2, 2)"
       ]
      }
     ],
     "prompt_number": 12
    },
    {
     "cell_type": "code",
     "collapsed": false,
     "input": [],
     "language": "python",
     "metadata": {},
     "outputs": []
    }
   ],
   "metadata": {}
  }
 ]
}